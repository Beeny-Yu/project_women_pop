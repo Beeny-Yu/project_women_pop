{
 "cells": [
  {
   "cell_type": "code",
   "execution_count": null,
   "id": "cb93c28d",
   "metadata": {},
   "outputs": [],
   "source": [
    "import pandas as pd\n",
    "m = pd.read_csv('man.csv') #남자 랭킹\n",
    "w = pd.read_csv('woman.csv') #여자 랭킹"
   ]
  },
  {
   "cell_type": "code",
   "execution_count": null,
   "id": "ddae312c",
   "metadata": {},
   "outputs": [],
   "source": [
    "pip install nltk #자연어 처리 패키지"
   ]
  },
  {
   "cell_type": "code",
   "execution_count": null,
   "id": "9ce1e9cc",
   "metadata": {},
   "outputs": [],
   "source": [
    "#자연어처리 패키지 불러오고 + 설치되었는지 버전 확인\n",
    "import nltk \n",
    "nltk.__version__"
   ]
  },
  {
   "cell_type": "code",
   "execution_count": null,
   "id": "af375f6d",
   "metadata": {},
   "outputs": [],
   "source": [
    "#자연어처리 패키지 불러오고 + 설치되었는지 버전 확인\n",
    "import konlpy \n",
    "konlpy.__version__"
   ]
  },
  {
   "cell_type": "code",
   "execution_count": null,
   "id": "cced85d9",
   "metadata": {},
   "outputs": [],
   "source": [
    "#가사 컬럼 값을 리스트로 변환\n",
    "m_lyrics = m['Lyric'].tolist() \n",
    "w_lyrics = w['Lyric'].tolist()"
   ]
  },
  {
   "cell_type": "code",
   "execution_count": null,
   "id": "da4d6b51",
   "metadata": {},
   "outputs": [],
   "source": [
    "#스트링으로 변환\n",
    "for i in range(len(m_lyrics)):\n",
    "    m_lyrics[i] = str(m_lyrics[i])\n",
    "for i in range(len(w_lyrics)):\n",
    "    w_lyrics[i] = str(w_lyrics[i])"
   ]
  },
  {
   "cell_type": "code",
   "execution_count": null,
   "id": "3c9a076f",
   "metadata": {},
   "outputs": [],
   "source": [
    "#” “.join( list ) : 리스트에서 문자열으로\n",
    "m_lyrics = ''.join(m_lyrics)\n",
    "m_lyrics[:100000]\n",
    "w_lyrics = ''.join(w_lyrics)\n",
    "w_lyrics[:100000]"
   ]
  },
  {
   "cell_type": "code",
   "execution_count": null,
   "id": "ee753a2f",
   "metadata": {},
   "outputs": [],
   "source": [
    "from konlpy.tag import Twitter\n",
    "from konlpy.tag import Okt \n",
    "twitter = Twitter()\n",
    "okt = Okt()\n",
    "m_sample = twitter.pos(m_lyrics, norm=True)\n",
    "w_sample = twitter.pos(w_lyrics, norm=True)"
   ]
  },
  {
   "cell_type": "code",
   "execution_count": null,
   "id": "8922ab41",
   "metadata": {},
   "outputs": [],
   "source": [
    "# 정규화 및 어근화를 마치고 품사 태깅까지 마친 상태에서,\n",
    "# 조사, 어미, 구두점을 제외한 나머지 단어들을 모두 word_cleaned 리스트에 담습니다.\n",
    "# 이 때에는 여러번 나온 단어들도 복수 허용되어 여러번 리스트에 담기게 됩니다.\n",
    "\n",
    "# 유의미한 의미를 갖고 있지 않은 단어를 제외할 수 있습니다.\n",
    "del_list = ['하다', '있다', '되다', '이다', '돼다', '않다', '그렇다', '아니다', '이렇다', '그렇다', '어떻다'] \n",
    "\n",
    "m_word_cleaned = []\n",
    "for word in m_sample:\n",
    "    if not word[1] in [\"Josa\", \"Eomi\", \"Punctuation\", \"Foreign\"]: # Foreign == \", \" 와 같이 제외되어야할 항목들\n",
    "        if (len(word[0]) != 1) & (word[0] not in del_list): # 한 글자로 이뤄진 단어들을 제외 & 원치 않는 단어들을 제외\n",
    "            m_word_cleaned.append(word[0])\n",
    "        \n",
    "m_word_cleaned"
   ]
  },
  {
   "cell_type": "code",
   "execution_count": null,
   "id": "fe919a61",
   "metadata": {},
   "outputs": [],
   "source": [
    "del_list = ['하다', '있다', '되다', '이다', '돼다', '않다', '그렇다', '아니다', '이렇다', '그렇다', '어떻다'] \n",
    "\n",
    "w_word_cleaned = []\n",
    "for word in w_sample:\n",
    "    if not word[1] in [\"Josa\", \"Eomi\", \"Punctuation\", \"Foreign\"]: # Foreign == \", \" 와 같이 제외되어야할 항목들\n",
    "        if (len(word[0]) != 1) & (word[0] not in del_list): # 한 글자로 이뤄진 단어들을 제외 & 원치 않는 단어들을 제외\n",
    "            w_word_cleaned.append(word[0])\n",
    "        \n",
    "w_word_cleaned"
   ]
  },
  {
   "cell_type": "code",
   "execution_count": null,
   "id": "708bc499",
   "metadata": {},
   "outputs": [],
   "source": [
    "m_word_dic = {}\n",
    "\n",
    "for word in m_word_cleaned:\n",
    "    if word not in m_word_dic:\n",
    "        m_word_dic[word] = 1 # changed from \"0\" to \"1\"\n",
    "    else:\n",
    "        m_word_dic[word] += 1\n",
    "\n",
    "# m_word_dic = sorted(m_word_dic.items(), key=lambda x:x[1], reverse=True)"
   ]
  },
  {
   "cell_type": "code",
   "execution_count": null,
   "id": "e906400b",
   "metadata": {
    "scrolled": true
   },
   "outputs": [],
   "source": [
    "w_word_dic = {}\n",
    "\n",
    "for word in w_word_cleaned:\n",
    "    if word not in w_word_dic:\n",
    "        w_word_dic[word] = 1 # changed from \"0\" to \"1\"\n",
    "    else:\n",
    "        w_word_dic[word] += 1\n",
    "        "
   ]
  },
  {
   "cell_type": "code",
   "execution_count": null,
   "id": "a0a676e8",
   "metadata": {
    "scrolled": true
   },
   "outputs": [],
   "source": [
    "pip install wordcloud"
   ]
  },
  {
   "cell_type": "code",
   "execution_count": null,
   "id": "d49c96cf",
   "metadata": {},
   "outputs": [],
   "source": [
    "pip install matplotlib"
   ]
  },
  {
   "cell_type": "code",
   "execution_count": null,
   "id": "d36b5aab",
   "metadata": {},
   "outputs": [],
   "source": [
    "from wordcloud import WordCloud \n",
    "import matplotlib.pyplot as plt \n",
    "import platform\n",
    "%matplotlib inline    \n",
    "#디스플레이 설정"
   ]
  },
  {
   "cell_type": "code",
   "execution_count": null,
   "id": "44633fce",
   "metadata": {},
   "outputs": [],
   "source": [
    "import matplotlib \n",
    "from IPython.display import set_matplotlib_formats \n",
    "\n",
    "# set_matplotlib_formats('retina') 화면 흐린거 선명하게 설정\n",
    "\n",
    "matplotlib.rcParams['axes.unicode_minus'] = False\n",
    "matplotlib.rcParams['font.family'] = \"AppleGothic\"\n"
   ]
  },
  {
   "cell_type": "code",
   "execution_count": null,
   "id": "9909597c",
   "metadata": {
    "scrolled": true
   },
   "outputs": [],
   "source": [
    "#여자 가사 시각화\n",
    "wordcloud = WordCloud(font_path='/Library/Fonts/AppleGothic.ttf',\n",
    "                      background_color='white',colormap = \"Accent_r\", \n",
    "                      width=1500, \n",
    "                      height=1000,\n",
    "                      max_words = 1000,\n",
    "                      ).generate_from_frequencies(w_word_dic) \n",
    "\n",
    "plt.figure(figsize=(30,30))\n",
    "plt.imshow(wordcloud) \n",
    "plt.axis('off') \n",
    "plt.show()\n"
   ]
  },
  {
   "cell_type": "code",
   "execution_count": null,
   "id": "8db1bba2",
   "metadata": {},
   "outputs": [],
   "source": [
    "#남자 가사 시각화\n",
    "wordcloud = WordCloud(font_path='/Library/Fonts/AppleGothic.ttf',\n",
    "                      background_color='white',colormap = \"Accent_r\", \n",
    "                      width=1500, \n",
    "                      height=1000,\n",
    "                      max_words = 1000,\n",
    "                      ).generate_from_frequencies(m_word_dic) \n",
    "\n",
    "plt.figure(figsize=(30,30))\n",
    "plt.imshow(wordcloud) \n",
    "plt.axis('off') \n",
    "plt.show()"
   ]
  }
 ],
 "metadata": {
  "kernelspec": {
   "display_name": "Python 3",
   "language": "python",
   "name": "python3"
  },
  "language_info": {
   "codemirror_mode": {
    "name": "ipython",
    "version": 3
   },
   "file_extension": ".py",
   "mimetype": "text/x-python",
   "name": "python",
   "nbconvert_exporter": "python",
   "pygments_lexer": "ipython3",
   "version": "3.8.8"
  }
 },
 "nbformat": 4,
 "nbformat_minor": 5
}
