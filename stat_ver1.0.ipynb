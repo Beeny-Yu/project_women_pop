{
 "cells": [
  {
   "cell_type": "code",
   "execution_count": 2,
   "id": "64e565cd",
   "metadata": {},
   "outputs": [],
   "source": [
    "import pandas as pd"
   ]
  },
  {
   "cell_type": "code",
   "execution_count": 16,
   "id": "fada669c",
   "metadata": {},
   "outputs": [],
   "source": [
    "bf = pd.read_csv('/Users/beenyu/project_women_pop/bf_word_dic')\n",
    "af = pd.read_csv('/Users/beenyu/project_women_pop/af_word_dic')"
   ]
  },
  {
   "cell_type": "code",
   "execution_count": 48,
   "id": "fbade166",
   "metadata": {
    "scrolled": true
   },
   "outputs": [],
   "source": [
    "bf_un = bf[bf['0'].isin(['입술', '가슴', '섹시', '흥분', 'sexy', '몸매', '몸', '다리',\n",
    "                 '엉덩이', 'hot', '야해', '침대', '야한', 'body', '허리', '피부',\n",
    "                 '골반', '쭉쭉', '빵빵', '여자들', '벗은', '벗어'])]"
   ]
  },
  {
   "cell_type": "code",
   "execution_count": 50,
   "id": "a5886181",
   "metadata": {},
   "outputs": [],
   "source": [
    "bf_un.to_csv('bf_un')"
   ]
  },
  {
   "cell_type": "code",
   "execution_count": 51,
   "id": "5271d125",
   "metadata": {
    "scrolled": true
   },
   "outputs": [],
   "source": [
    "af_un = af[af['0'].isin(['입술', '가슴', '섹시', '흥분', 'sexy', '몸매', '몸', '다리',\n",
    "                 '엉덩이', 'hot', '야해', '침대', '야한', 'body', '허리', '피부',\n",
    "                 '골반', '쭉쭉', '빵빵', '여자들', '벗은', '벗어'])]\n",
    "af_un.to_csv('af_un')"
   ]
  }
 ],
 "metadata": {
  "kernelspec": {
   "display_name": "Python 3",
   "language": "python",
   "name": "python3"
  },
  "language_info": {
   "codemirror_mode": {
    "name": "ipython",
    "version": 3
   },
   "file_extension": ".py",
   "mimetype": "text/x-python",
   "name": "python",
   "nbconvert_exporter": "python",
   "pygments_lexer": "ipython3",
   "version": "3.8.8"
  }
 },
 "nbformat": 4,
 "nbformat_minor": 5
}
